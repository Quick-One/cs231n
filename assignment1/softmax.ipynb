{
 "cells": [
  {
   "cell_type": "code",
   "execution_count": 1,
   "id": "149d5b7e",
   "metadata": {},
   "outputs": [
    {
     "name": "stdout",
     "output_type": "stream",
     "text": [
      "C:\\Users\\quick_one\\Documents\\GitHub\\cs231n\\assignment1\\cs231n\\datasets\n",
      "C:\\Users\\quick_one\\Documents\\GitHub\\cs231n\\assignment1\n"
     ]
    }
   ],
   "source": [
    "# This mounts your Google Drive to the Colab VM.\n",
    "# from google.colab import drive\n",
    "# drive.mount('/content/drive')\n",
    "\n",
    "# TODO: Enter the foldername in your Drive where you have saved the unzipped\n",
    "# assignment folder, e.g. 'cs231n/assignments/assignment1/'\n",
    "# FOLDERNAME = None\n",
    "# assert FOLDERNAME is not None, \"[!] Enter the foldername.\"\n",
    "\n",
    "# Now that we've mounted your Drive, this ensures that\n",
    "# the Python interpreter of the Colab VM can load\n",
    "# python files from within it.\n",
    "import sys\n",
    "sys.path.append(r'C:\\Users\\quick_one\\Documents\\GitHub\\cs231n\\assignment1')\n",
    "\n",
    "# This downloads the CIFAR-10 dataset to your Drive\n",
    "# if it doesn't already exist.\n",
    "%cd C:\\Users\\quick_one\\Documents\\GitHub\\cs231n\\assignment1\\cs231n\\datasets\n",
    "!bash get_datasets.sh\n",
    "%cd C:\\Users\\quick_one\\Documents\\GitHub\\cs231n\\assignment1"
   ]
  },
  {
   "attachments": {},
   "cell_type": "markdown",
   "id": "5fdfc27e",
   "metadata": {
    "tags": [
     "pdf-title"
    ]
   },
   "source": [
    "# Softmax exercise\n",
    "\n",
    "*Complete and hand in this completed worksheet (including its outputs and any supporting code outside of the worksheet) with your assignment submission. For more details see the [assignments page](http://vision.stanford.edu/teaching/cs231n/assignments.html) on the course website.*\n",
    "\n",
    "This exercise is analogous to the SVM exercise. You will:\n",
    "\n",
    "- implement a fully-vectorized **loss function** for the Softmax classifier\n",
    "- implement the fully-vectorized expression for its **analytic gradient**\n",
    "- **check your implementation** with numerical gradient\n",
    "- use a validation set to **tune the learning rate and regularization** strength\n",
    "- **optimize** the loss function with **SGD**\n",
    "- **visualize** the final learned weights\n"
   ]
  },
  {
   "cell_type": "code",
   "execution_count": 2,
   "id": "ca6cf2d4",
   "metadata": {
    "tags": [
     "pdf-ignore"
    ]
   },
   "outputs": [],
   "source": [
    "import random\n",
    "import numpy as np\n",
    "from cs231n.data_utils import load_CIFAR10\n",
    "import matplotlib.pyplot as plt\n",
    "\n",
    "%matplotlib inline\n",
    "plt.rcParams['figure.figsize'] = (10.0, 8.0) # set default size of plots\n",
    "plt.rcParams['image.interpolation'] = 'nearest'\n",
    "plt.rcParams['image.cmap'] = 'gray'\n",
    "\n",
    "# for auto-reloading extenrnal modules\n",
    "# see http://stackoverflow.com/questions/1907993/autoreload-of-modules-in-ipython\n",
    "%load_ext autoreload\n",
    "%autoreload 2"
   ]
  },
  {
   "cell_type": "code",
   "execution_count": 3,
   "id": "9e9bbbbe",
   "metadata": {
    "tags": [
     "pdf-ignore"
    ]
   },
   "outputs": [
    {
     "name": "stdout",
     "output_type": "stream",
     "text": [
      "Train data shape:  (49000, 3073)\n",
      "Train labels shape:  (49000,)\n",
      "Validation data shape:  (1000, 3073)\n",
      "Validation labels shape:  (1000,)\n",
      "Test data shape:  (1000, 3073)\n",
      "Test labels shape:  (1000,)\n",
      "dev data shape:  (500, 3073)\n",
      "dev labels shape:  (500,)\n"
     ]
    }
   ],
   "source": [
    "def get_CIFAR10_data(num_training=49000, num_validation=1000, num_test=1000, num_dev=500):\n",
    "    \"\"\"\n",
    "    Load the CIFAR-10 dataset from disk and perform preprocessing to prepare\n",
    "    it for the linear classifier. These are the same steps as we used for the\n",
    "    SVM, but condensed to a single function.  \n",
    "    \"\"\"\n",
    "    # Load the raw CIFAR-10 data\n",
    "    cifar10_dir = 'cs231n/datasets/cifar-10-batches-py'\n",
    "    \n",
    "    # Cleaning up variables to prevent loading data multiple times (which may cause memory issue)\n",
    "    try:\n",
    "       del X_train, y_train\n",
    "       del X_test, y_test\n",
    "       print('Clear previously loaded data.')\n",
    "    except:\n",
    "       pass\n",
    "\n",
    "    X_train, y_train, X_test, y_test = load_CIFAR10(cifar10_dir)\n",
    "    \n",
    "    # subsample the data\n",
    "    mask = list(range(num_training, num_training + num_validation))\n",
    "    X_val = X_train[mask]\n",
    "    y_val = y_train[mask]\n",
    "    mask = list(range(num_training))\n",
    "    X_train = X_train[mask]\n",
    "    y_train = y_train[mask]\n",
    "    mask = list(range(num_test))\n",
    "    X_test = X_test[mask]\n",
    "    y_test = y_test[mask]\n",
    "    mask = np.random.choice(num_training, num_dev, replace=False)\n",
    "    X_dev = X_train[mask]\n",
    "    y_dev = y_train[mask]\n",
    "    \n",
    "    # Preprocessing: reshape the image data into rows\n",
    "    X_train = np.reshape(X_train, (X_train.shape[0], -1))\n",
    "    X_val = np.reshape(X_val, (X_val.shape[0], -1))\n",
    "    X_test = np.reshape(X_test, (X_test.shape[0], -1))\n",
    "    X_dev = np.reshape(X_dev, (X_dev.shape[0], -1))\n",
    "    \n",
    "    # Normalize the data: subtract the mean image\n",
    "    mean_image = np.mean(X_train, axis = 0)\n",
    "    X_train -= mean_image\n",
    "    X_val -= mean_image\n",
    "    X_test -= mean_image\n",
    "    X_dev -= mean_image\n",
    "    \n",
    "    # add bias dimension and transform into columns\n",
    "    X_train = np.hstack([X_train, np.ones((X_train.shape[0], 1))])\n",
    "    X_val = np.hstack([X_val, np.ones((X_val.shape[0], 1))])\n",
    "    X_test = np.hstack([X_test, np.ones((X_test.shape[0], 1))])\n",
    "    X_dev = np.hstack([X_dev, np.ones((X_dev.shape[0], 1))])\n",
    "    \n",
    "    return X_train, y_train, X_val, y_val, X_test, y_test, X_dev, y_dev\n",
    "\n",
    "\n",
    "# Invoke the above function to get our data.\n",
    "X_train, y_train, X_val, y_val, X_test, y_test, X_dev, y_dev = get_CIFAR10_data()\n",
    "print('Train data shape: ', X_train.shape)\n",
    "print('Train labels shape: ', y_train.shape)\n",
    "print('Validation data shape: ', X_val.shape)\n",
    "print('Validation labels shape: ', y_val.shape)\n",
    "print('Test data shape: ', X_test.shape)\n",
    "print('Test labels shape: ', y_test.shape)\n",
    "print('dev data shape: ', X_dev.shape)\n",
    "print('dev labels shape: ', y_dev.shape)"
   ]
  },
  {
   "attachments": {},
   "cell_type": "markdown",
   "id": "d4c3fb04",
   "metadata": {},
   "source": [
    "## Softmax Classifier\n",
    "\n",
    "Your code for this section will all be written inside `cs231n/classifiers/softmax.py`.\n"
   ]
  },
  {
   "cell_type": "code",
   "execution_count": 4,
   "id": "25f2e5e1",
   "metadata": {},
   "outputs": [
    {
     "name": "stdout",
     "output_type": "stream",
     "text": [
      "loss: 1179.654970\n",
      "sanity check: 2.302585\n"
     ]
    }
   ],
   "source": [
    "# First implement the naive softmax loss function with nested loops.\n",
    "# Open the file cs231n/classifiers/softmax.py and implement the\n",
    "# softmax_loss_naive function.\n",
    "\n",
    "from cs231n.classifiers.softmax import softmax_loss_naive\n",
    "import time\n",
    "\n",
    "# Generate a random softmax weight matrix and use it to compute the loss.\n",
    "W = np.random.randn(3073, 10) * 0.0001\n",
    "loss, grad = softmax_loss_naive(W, X_dev, y_dev, 0.0)\n",
    "\n",
    "# As a rough sanity check, our loss should be something close to -log(0.1).\n",
    "print('loss: %f' % loss)\n",
    "print('sanity check: %f' % (-np.log(0.1)))"
   ]
  },
  {
   "attachments": {},
   "cell_type": "markdown",
   "id": "15ebc638",
   "metadata": {
    "tags": [
     "pdf-inline"
    ]
   },
   "source": [
    "**Inline Question 1**\n",
    "\n",
    "Why do we expect our loss to be close to -log(0.1)? Explain briefly.**\n",
    "\n",
    "$\\color{blue}{\\textit Your Answer:}$ *Fill this in* \n",
    "\n"
   ]
  },
  {
   "cell_type": "code",
   "execution_count": 10,
   "id": "a8cb3eb1",
   "metadata": {},
   "outputs": [
    {
     "name": "stdout",
     "output_type": "stream",
     "text": [
      "numerical: 0.505851 analytic: 0.505851, relative error: 3.678322e-08\n",
      "numerical: -0.174420 analytic: -0.174420, relative error: 8.123133e-09\n",
      "numerical: 0.977612 analytic: 0.977612, relative error: 1.305907e-08\n",
      "numerical: 0.722354 analytic: 0.722354, relative error: 8.344992e-08\n",
      "numerical: -0.443441 analytic: -0.443441, relative error: 5.615623e-08\n",
      "numerical: -2.765992 analytic: -2.765992, relative error: 5.451058e-09\n",
      "numerical: 2.220337 analytic: 2.220337, relative error: 1.077633e-08\n",
      "numerical: -0.722474 analytic: -0.722474, relative error: 5.558532e-08\n",
      "numerical: -2.814511 analytic: -2.814511, relative error: 1.144901e-08\n",
      "numerical: -6.379607 analytic: -6.379607, relative error: 1.142688e-09\n",
      "numerical: 0.779047 analytic: 0.779047, relative error: 2.982040e-08\n",
      "numerical: 2.641405 analytic: 2.641405, relative error: 3.309658e-08\n",
      "numerical: -0.894084 analytic: -0.894084, relative error: 2.784449e-08\n",
      "numerical: -0.580271 analytic: -0.580271, relative error: 2.007982e-08\n",
      "numerical: -1.985344 analytic: -1.985344, relative error: 7.005378e-09\n",
      "numerical: 2.073205 analytic: 2.073205, relative error: 6.553754e-08\n",
      "numerical: -1.323378 analytic: -1.323378, relative error: 3.982537e-09\n",
      "numerical: -0.690686 analytic: -0.690686, relative error: 3.222992e-10\n",
      "numerical: -1.809855 analytic: -1.809855, relative error: 2.038116e-08\n",
      "numerical: 0.460385 analytic: 0.460385, relative error: 1.435159e-08\n"
     ]
    }
   ],
   "source": [
    "# Complete the implementation of softmax_loss_naive and implement a (naive)\n",
    "# version of the gradient that uses nested loops.\n",
    "loss, grad = softmax_loss_naive(W, X_dev, y_dev, 0.0)\n",
    "\n",
    "# As we did for the SVM, use numeric gradient checking as a debugging tool.\n",
    "# The numeric gradient should be close to the analytic gradient.\n",
    "from cs231n.gradient_check import grad_check_sparse\n",
    "f = lambda w: softmax_loss_naive(w, X_dev, y_dev, 0.0)[0]\n",
    "grad_numerical = grad_check_sparse(f, W, grad, 10)\n",
    "\n",
    "# similar to SVM case, do another gradient check with regularization\n",
    "loss, grad = softmax_loss_naive(W, X_dev, y_dev, 5e1)\n",
    "f = lambda w: softmax_loss_naive(w, X_dev, y_dev, 5e1)[0]\n",
    "grad_numerical = grad_check_sparse(f, W, grad, 10)"
   ]
  },
  {
   "cell_type": "code",
   "execution_count": 11,
   "id": "4a4a81d4",
   "metadata": {},
   "outputs": [
    {
     "name": "stdout",
     "output_type": "stream",
     "text": [
      "naive loss: 2.359310e+00 computed in 0.137998s\n",
      "vectorized loss: 2.359310e+00 computed in 0.012004s\n",
      "Loss difference: 0.000000\n",
      "Gradient difference: 0.000000\n"
     ]
    }
   ],
   "source": [
    "# Now that we have a naive implementation of the softmax loss function and its gradient,\n",
    "# implement a vectorized version in softmax_loss_vectorized.\n",
    "# The two versions should compute the same results, but the vectorized version should be\n",
    "# much faster.\n",
    "tic = time.time()\n",
    "loss_naive, grad_naive = softmax_loss_naive(W, X_dev, y_dev, 0.000005)\n",
    "toc = time.time()\n",
    "print('naive loss: %e computed in %fs' % (loss_naive, toc - tic))\n",
    "\n",
    "from cs231n.classifiers.softmax import softmax_loss_vectorized\n",
    "tic = time.time()\n",
    "loss_vectorized, grad_vectorized = softmax_loss_vectorized(W, X_dev, y_dev, 0.000005)\n",
    "toc = time.time()\n",
    "print('vectorized loss: %e computed in %fs' % (loss_vectorized, toc - tic))\n",
    "\n",
    "# As we did for the SVM, we use the Frobenius norm to compare the two versions\n",
    "# of the gradient.\n",
    "grad_difference = np.linalg.norm(grad_naive - grad_vectorized, ord='fro')\n",
    "print('Loss difference: %f' % np.abs(loss_naive - loss_vectorized))\n",
    "print('Gradient difference: %f' % grad_difference)"
   ]
  },
  {
   "cell_type": "code",
   "execution_count": 21,
   "id": "a3453536",
   "metadata": {
    "tags": [
     "code"
    ],
    "test": "tuning"
   },
   "outputs": [
    {
     "name": "stdout",
     "output_type": "stream",
     "text": [
      "iteration 0 / 2500: loss 317.449560\n",
      "iteration 100 / 2500: loss 211.631693\n",
      "iteration 200 / 2500: loss 141.935368\n",
      "iteration 300 / 2500: loss 95.502207\n",
      "iteration 400 / 2500: loss 64.421313\n",
      "iteration 500 / 2500: loss 43.816610\n",
      "iteration 600 / 2500: loss 29.948900\n",
      "iteration 700 / 2500: loss 20.731118\n",
      "iteration 800 / 2500: loss 14.484519\n",
      "iteration 900 / 2500: loss 10.447582\n",
      "iteration 1000 / 2500: loss 7.614325\n",
      "iteration 1100 / 2500: loss 5.690928\n",
      "iteration 1200 / 2500: loss 4.498239\n",
      "iteration 1300 / 2500: loss 3.692846\n",
      "iteration 1400 / 2500: loss 3.106581\n",
      "iteration 1500 / 2500: loss 2.804059\n",
      "iteration 1600 / 2500: loss 2.485287\n",
      "iteration 1700 / 2500: loss 2.298018\n",
      "iteration 1800 / 2500: loss 2.123561\n",
      "iteration 1900 / 2500: loss 2.103912\n",
      "iteration 2000 / 2500: loss 2.054398\n",
      "iteration 2100 / 2500: loss 2.045891\n",
      "iteration 2200 / 2500: loss 2.058054\n",
      "iteration 2300 / 2500: loss 2.039106\n",
      "iteration 2400 / 2500: loss 2.050392\n",
      "iteration 0 / 2500: loss 1540.338181\n",
      "iteration 100 / 2500: loss 207.546954\n",
      "iteration 200 / 2500: loss 29.546830\n",
      "iteration 300 / 2500: loss 5.836917\n",
      "iteration 400 / 2500: loss 2.641504\n",
      "iteration 500 / 2500: loss 2.210940\n",
      "iteration 600 / 2500: loss 2.188505\n",
      "iteration 700 / 2500: loss 2.107135\n",
      "iteration 800 / 2500: loss 2.135613\n",
      "iteration 900 / 2500: loss 2.186159\n",
      "iteration 1000 / 2500: loss 2.110838\n",
      "iteration 1100 / 2500: loss 2.147320\n",
      "iteration 1200 / 2500: loss 2.145218\n",
      "iteration 1300 / 2500: loss 2.190896\n",
      "iteration 1400 / 2500: loss 2.147753\n",
      "iteration 1500 / 2500: loss 2.129695\n",
      "iteration 1600 / 2500: loss 2.124357\n",
      "iteration 1700 / 2500: loss 2.096298\n",
      "iteration 1800 / 2500: loss 2.178127\n",
      "iteration 1900 / 2500: loss 2.168443\n",
      "iteration 2000 / 2500: loss 2.151197\n",
      "iteration 2100 / 2500: loss 2.147994\n",
      "iteration 2200 / 2500: loss 2.103570\n",
      "iteration 2300 / 2500: loss 2.173022\n",
      "iteration 2400 / 2500: loss 2.118596\n",
      "iteration 0 / 2500: loss 310.425499\n",
      "iteration 100 / 2500: loss 42.522564\n",
      "iteration 200 / 2500: loss 7.337183\n",
      "iteration 300 / 2500: loss 2.745561\n",
      "iteration 400 / 2500: loss 2.059352\n",
      "iteration 500 / 2500: loss 1.974551\n",
      "iteration 600 / 2500: loss 2.001355\n",
      "iteration 700 / 2500: loss 1.947202\n",
      "iteration 800 / 2500: loss 1.949854\n",
      "iteration 900 / 2500: loss 2.055285\n",
      "iteration 1000 / 2500: loss 1.978978\n",
      "iteration 1100 / 2500: loss 2.026927\n",
      "iteration 1200 / 2500: loss 1.959465\n",
      "iteration 1300 / 2500: loss 1.951460\n",
      "iteration 1400 / 2500: loss 2.021247\n",
      "iteration 1500 / 2500: loss 2.051494\n",
      "iteration 1600 / 2500: loss 1.999937\n",
      "iteration 1700 / 2500: loss 1.986948\n",
      "iteration 1800 / 2500: loss 2.044500\n",
      "iteration 1900 / 2500: loss 1.984960\n",
      "iteration 2000 / 2500: loss 1.981658\n",
      "iteration 2100 / 2500: loss 1.976669\n",
      "iteration 2200 / 2500: loss 2.054839\n",
      "iteration 2300 / 2500: loss 2.014608\n",
      "iteration 2400 / 2500: loss 1.991181\n",
      "iteration 0 / 2500: loss 1533.446872\n",
      "iteration 100 / 2500: loss 2.226678\n",
      "iteration 200 / 2500: loss 2.100969\n",
      "iteration 300 / 2500: loss 2.130508\n",
      "iteration 400 / 2500: loss 2.176839\n",
      "iteration 500 / 2500: loss 2.135472\n",
      "iteration 600 / 2500: loss 2.233492\n",
      "iteration 700 / 2500: loss 2.208759\n",
      "iteration 800 / 2500: loss 2.147745\n",
      "iteration 900 / 2500: loss 2.155206\n",
      "iteration 1000 / 2500: loss 2.173897\n",
      "iteration 1100 / 2500: loss 2.143366\n",
      "iteration 1200 / 2500: loss 2.138037\n",
      "iteration 1300 / 2500: loss 2.168466\n",
      "iteration 1400 / 2500: loss 2.156240\n",
      "iteration 1500 / 2500: loss 2.149690\n",
      "iteration 1600 / 2500: loss 2.158836\n",
      "iteration 1700 / 2500: loss 2.163655\n",
      "iteration 1800 / 2500: loss 2.144258\n",
      "iteration 1900 / 2500: loss 2.118406\n",
      "iteration 2000 / 2500: loss 2.119270\n",
      "iteration 2100 / 2500: loss 2.132224\n",
      "iteration 2200 / 2500: loss 2.176357\n",
      "iteration 2300 / 2500: loss 2.135523\n",
      "iteration 2400 / 2500: loss 2.148677\n",
      "lr 1.000000e-07 reg 1.000000e+04 train accuracy: 0.358980 val accuracy: 0.375000\n",
      "lr 1.000000e-07 reg 5.000000e+04 train accuracy: 0.307816 val accuracy: 0.328000\n",
      "lr 5.000000e-07 reg 1.000000e+04 train accuracy: 0.356265 val accuracy: 0.355000\n",
      "lr 5.000000e-07 reg 5.000000e+04 train accuracy: 0.287959 val accuracy: 0.303000\n",
      "best validation accuracy achieved during cross-validation: 0.375000\n"
     ]
    }
   ],
   "source": [
    "# Use the validation set to tune hyperparameters (regularization strength and\n",
    "# learning rate). You should experiment with different ranges for the learning\n",
    "# rates and regularization strengths; if you are careful you should be able to\n",
    "# get a classification accuracy of over 0.35 on the validation set.\n",
    "\n",
    "from cs231n.classifiers import Softmax\n",
    "results = {}\n",
    "best_val = -1\n",
    "best_softmax = None\n",
    "\n",
    "################################################################################\n",
    "# TODO:                                                                        #\n",
    "# Use the validation set to set the learning rate and regularization strength. #\n",
    "# This should be identical to the validation that you did for the SVM; save    #\n",
    "# the best trained softmax classifer in best_softmax.                          #\n",
    "################################################################################\n",
    "\n",
    "# Provided as a reference. You may or may not want to change these hyperparameters\n",
    "learning_rates = [1e-7, 5e-7]\n",
    "regularization_strengths = [1e4, 5e4,]\n",
    "\n",
    "# *****START OF YOUR CODE (DO NOT DELETE/MODIFY THIS LINE)*****\n",
    "\n",
    "for lr in learning_rates:\n",
    "    for rs in regularization_strengths:\n",
    "        softmax = Softmax()\n",
    "        softmax.train(X_train, y_train, learning_rate=lr, reg=rs, num_iters=2500, verbose=True)\n",
    "        \n",
    "        y_train_pred = softmax.predict(X_train)\n",
    "        y_val_pred = softmax.predict(X_val)\n",
    "        \n",
    "        train_accuracy = np.mean(y_train == y_train_pred)\n",
    "        val_accuracy = np.mean(y_val == y_val_pred)\n",
    "        \n",
    "        results[(lr, rs)] = (train_accuracy, val_accuracy)\n",
    "\n",
    "        if val_accuracy > best_val:\n",
    "            best_val = val_accuracy\n",
    "            best_softmax = softmax\n",
    "\n",
    "# *****END OF YOUR CODE (DO NOT DELETE/MODIFY THIS LINE)*****\n",
    "    \n",
    "# Print out results.\n",
    "for lr, reg in sorted(results):\n",
    "    train_accuracy, val_accuracy = results[(lr, reg)]\n",
    "    print('lr %e reg %e train accuracy: %f val accuracy: %f' % (\n",
    "                lr, reg, train_accuracy, val_accuracy))\n",
    "    \n",
    "print('best validation accuracy achieved during cross-validation: %f' % best_val)"
   ]
  },
  {
   "cell_type": "code",
   "execution_count": 22,
   "id": "8a1f9db3",
   "metadata": {
    "test": "test"
   },
   "outputs": [
    {
     "name": "stdout",
     "output_type": "stream",
     "text": [
      "softmax on raw pixels final test set accuracy: 0.365000\n"
     ]
    }
   ],
   "source": [
    "# evaluate on test set\n",
    "# Evaluate the best softmax on test set\n",
    "y_test_pred = best_softmax.predict(X_test)\n",
    "test_accuracy = np.mean(y_test == y_test_pred)\n",
    "print('softmax on raw pixels final test set accuracy: %f' % (test_accuracy, ))"
   ]
  },
  {
   "attachments": {},
   "cell_type": "markdown",
   "id": "86b9b65c",
   "metadata": {
    "tags": [
     "pdf-inline"
    ]
   },
   "source": [
    "**Inline Question 2** - *True or False*\n",
    "\n",
    "Suppose the overall training loss is defined as the sum of the per-datapoint loss over all training examples. It is possible to add a new datapoint to a training set that would leave the SVM loss unchanged, but this is not the case with the Softmax classifier loss.\n",
    "\n",
    "$\\color{blue}{\\textit Your Answer:}$\n",
    "\n",
    "\n",
    "$\\color{blue}{\\textit Your Explanation:}$\n",
    "\n"
   ]
  },
  {
   "cell_type": "code",
   "execution_count": 23,
   "id": "009f08b9",
   "metadata": {},
   "outputs": [
    {
     "data": {
      "image/png": "[encoded data removed]",
      "text/plain": [
       "<Figure size 1000x800 with 10 Axes>"
      ]
     },
     "metadata": {},
     "output_type": "display_data"
    }
   ],
   "source": [
    "# Visualize the learned weights for each class\n",
    "w = best_softmax.W[:-1,:] # strip out the bias\n",
    "w = w.reshape(32, 32, 3, 10)\n",
    "\n",
    "w_min, w_max = np.min(w), np.max(w)\n",
    "\n",
    "classes = ['plane', 'car', 'bird', 'cat', 'deer', 'dog', 'frog', 'horse', 'ship', 'truck']\n",
    "for i in range(10):\n",
    "    plt.subplot(2, 5, i + 1)\n",
    "    \n",
    "    # Rescale the weights to be between 0 and 255\n",
    "    wimg = 255.0 * (w[:, :, :, i].squeeze() - w_min) / (w_max - w_min)\n",
    "    plt.imshow(wimg.astype('uint8'))\n",
    "    plt.axis('off')\n",
    "    plt.title(classes[i])"
   ]
  },
  {
   "cell_type": "code",
   "execution_count": null,
   "id": "3569b36b",
   "metadata": {},
   "outputs": [],
   "source": []
  }
 ],
 "metadata": {
  "kernelspec": {
   "display_name": "env",
   "language": "python",
   "name": "python3"
  },
  "language_info": {
   "codemirror_mode": {
    "name": "ipython",
    "version": 3
   },
   "file_extension": ".py",
   "mimetype": "text/x-python",
   "name": "python",
   "nbconvert_exporter": "python",
   "pygments_lexer": "ipython3",
   "version": "3.9.13"
  }
 },
 "nbformat": 4,
 "nbformat_minor": 5
}
